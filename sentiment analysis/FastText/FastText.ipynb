{
 "cells": [
  {
   "cell_type": "markdown",
   "metadata": {},
   "source": [
    "References:\n",
    "https://pypi.python.org/pypi/fasttext"
   ]
  },
  {
   "cell_type": "code",
   "execution_count": 1,
   "metadata": {
    "collapsed": true
   },
   "outputs": [],
   "source": [
    "import fasttext\n",
    "import time"
   ]
  },
  {
   "cell_type": "code",
   "execution_count": 2,
   "metadata": {},
   "outputs": [
    {
     "name": "stdout",
     "output_type": "stream",
     "text": [
      "162.4893889427185\n"
     ]
    }
   ],
   "source": [
    "start = time.time()\n",
    "classifier = fasttext.supervised('train.ft.txt', 'model',\n",
    "                                 label_prefix='__label__') #not set #lr=0.1, dim=300,\n",
    "end = time.time()\n",
    "print(end - start)"
   ]
  },
  {
   "cell_type": "code",
   "execution_count": 3,
   "metadata": {},
   "outputs": [
    {
     "name": "stdout",
     "output_type": "stream",
     "text": [
      "P@1: 0.916045\n",
      "R@1: 0.916045\n",
      "Number of examples: 400000\n"
     ]
    }
   ],
   "source": [
    "result = classifier.test('test.ft.txt')\n",
    "print('P@1:', result.precision)\n",
    "print('R@1:', result.recall)\n",
    "print('Number of examples:', result.nexamples)"
   ]
  },
  {
   "cell_type": "code",
   "execution_count": 2,
   "metadata": {
    "collapsed": true
   },
   "outputs": [],
   "source": [
    "#model = fasttext.load_model('model.bin')"
   ]
  },
  {
   "cell_type": "code",
   "execution_count": 4,
   "metadata": {},
   "outputs": [
    {
     "name": "stdout",
     "output_type": "stream",
     "text": [
      "[['1'], ['1'], ['2'], ['1'], ['1'], ['2'], ['2'], ['2'], ['2'], ['2'], ['1']]\n"
     ]
    }
   ],
   "source": [
    "texts = [\"This is a joke\",\n",
    "         \"The worst product I have ever bought\",\n",
    "         \"I like it, and I want to buy it again\",\n",
    "         \"I am going to give a presentation.\",\n",
    "         \"I am going to have an exam.\", \n",
    "         \"The new tea table looks amazing.\", \n",
    "         \"This is the best class ever!\",\n",
    "         \"My mom loves it.\",\n",
    "         \"nice weather\",\n",
    "         \"This is the best 30 bucks that I have ever spent\",\n",
    "         \"Complete waste of money.\"\n",
    "        ]\n",
    "labels = classifier.predict(texts)\n",
    "print(labels)"
   ]
  },
  {
   "cell_type": "code",
   "execution_count": 5,
   "metadata": {},
   "outputs": [
    {
     "name": "stdout",
     "output_type": "stream",
     "text": [
      "[[('1', 0.998047)], [('1', 1.0)], [('2', 0.740234)], [('1', 0.962891)], [('1', 0.802734)], [('2', 0.998047)], [('2', 0.998047)], [('2', 1.0)], [('2', 0.998047)], [('2', 0.923828)], [('1', 1.0)]]\n"
     ]
    }
   ],
   "source": [
    "# Or with the probability\n",
    "labels = classifier.predict_proba(texts)\n",
    "print(labels)"
   ]
  }
 ],
 "metadata": {
  "kernelspec": {
   "display_name": "Python 3",
   "language": "python",
   "name": "python3"
  },
  "language_info": {
   "codemirror_mode": {
    "name": "ipython",
    "version": 3
   },
   "file_extension": ".py",
   "mimetype": "text/x-python",
   "name": "python",
   "nbconvert_exporter": "python",
   "pygments_lexer": "ipython3",
   "version": "3.6.1"
  }
 },
 "nbformat": 4,
 "nbformat_minor": 2
}
