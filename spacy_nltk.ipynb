{
 "cells": [
  {
   "cell_type": "markdown",
   "metadata": {},
   "source": [
    "### Week 5 Homework\n",
    "### Yi Li"
   ]
  },
  {
   "cell_type": "code",
   "execution_count": 1,
   "metadata": {},
   "outputs": [],
   "source": [
    "text = u'''The t-test is any statistical hypothesis test in which the test statistic follows a Student's t-distribution under the null hypothesis.\n",
    "A t-test is most commonly applied when the test statistic would follow a normal distribution if the value of a scaling term in the test statistic were known. When the scaling term is unknown and is replaced by an estimate based on the data, the test statistics (under certain conditions) follow a Student's t distribution. The t-test can be used, for example, to determine if two sets of data are significantly different from each other.\n",
    "William Sealy Gosset, who developed the \"t-statistic\" and published it under the pseudonym of \"Student\".\n",
    "The t-statistic was introduced in 1908 by William Sealy Gosset, a chemist working for the Guinness brewery in Dublin, Ireland. \"Student\" was his pen name.[1][2][3][4]\n",
    "Gosset had been hired owing to Claude Guinness's policy of recruiting the best graduates from Oxford and Cambridge to apply biochemistry and statistics to Guinness's industrial processes.[2] Gosset devised the t-test as an economical way to monitor the quality of stout. The Student's t-test work was submitted to and accepted in the journal Biometrika and published in 1908.[5] Company policy at Guinness forbade its chemists from publishing their findings, so Gosset published his statistical work under the pseudonym \"Student\" (see Student's t-distribution for a detailed history of this pseudonym, which is not to be confused with the literal term student).\n",
    "Guinness had a policy of allowing technical staff leave for study (so-called \"study leave\"), which Gosset used during the first two terms of the 1906–1907 academic year in Professor Karl Pearson's Biometric Laboratory at University College London.[6] Gosset's identity was then known to fellow statisticians and to editor-in-chief Karl Pearson.[7]'''"
   ]
  },
  {
   "cell_type": "code",
   "execution_count": 2,
   "metadata": {
    "collapsed": true
   },
   "outputs": [],
   "source": [
    "import spacy\n",
    "nlp = spacy.load('en')"
   ]
  },
  {
   "cell_type": "code",
   "execution_count": 3,
   "metadata": {
    "collapsed": true
   },
   "outputs": [],
   "source": [
    "doc_spacy = nlp(text)\n",
    "tag_spacy = [(w.text, w.tag_) for w in doc_spacy]"
   ]
  },
  {
   "cell_type": "code",
   "execution_count": 4,
   "metadata": {
    "collapsed": true
   },
   "outputs": [],
   "source": [
    "import nltk\n",
    "doc_nltk = nltk.word_tokenize(text)\n",
    "tag_nltk = nltk.pos_tag(doc_nltk)"
   ]
  },
  {
   "cell_type": "code",
   "execution_count": 5,
   "metadata": {},
   "outputs": [
    {
     "name": "stdout",
     "output_type": "stream",
     "text": [
      "[('The', 'DT'), ('t', 'NN'), ('-', 'HYPH'), ('test', 'NN'), ('is', 'VBZ'), ('any', 'DT'), ('statistical', 'JJ'), ('hypothesis', 'NN'), ('test', 'NN'), ('in', 'IN'), ('which', 'WDT'), ('the', 'DT'), ('test', 'NN'), ('statistic', 'NN'), ('follows', 'VBZ'), ('a', 'DT'), ('Student', 'NN'), (\"'s\", 'POS'), ('t', 'NN'), ('-', 'HYPH'), ('distribution', 'NN'), ('under', 'IN'), ('the', 'DT'), ('null', 'JJ'), ('hypothesis', 'NN'), ('.', '.'), ('\\n', 'SP'), ('A', 'DT'), ('t', 'NN'), ('-', 'HYPH'), ('test', 'NN'), ('is', 'VBZ'), ('most', 'RBS'), ('commonly', 'RB'), ('applied', 'VBN'), ('when', 'WRB'), ('the', 'DT'), ('test', 'NN'), ('statistic', 'NN'), ('would', 'MD'), ('follow', 'VB'), ('a', 'DT'), ('normal', 'JJ'), ('distribution', 'NN'), ('if', 'IN'), ('the', 'DT'), ('value', 'NN'), ('of', 'IN'), ('a', 'DT'), ('scaling', 'NN'), ('term', 'NN'), ('in', 'IN'), ('the', 'DT'), ('test', 'NN'), ('statistic', 'NN'), ('were', 'VBD'), ('known', 'VBN'), ('.', '.'), ('When', 'WRB'), ('the', 'DT'), ('scaling', 'NN'), ('term', 'NN'), ('is', 'VBZ'), ('unknown', 'JJ'), ('and', 'CC'), ('is', 'VBZ'), ('replaced', 'VBN'), ('by', 'IN'), ('an', 'DT'), ('estimate', 'NN'), ('based', 'VBN'), ('on', 'IN'), ('the', 'DT'), ('data', 'NNS'), (',', ','), ('the', 'DT'), ('test', 'NN'), ('statistics', 'NNS'), ('(', '-LRB-'), ('under', 'IN'), ('certain', 'JJ'), ('conditions', 'NNS'), (')', '-RRB-'), ('follow', 'VBP'), ('a', 'DT'), ('Student', 'NN'), (\"'s\", 'POS'), ('t', 'NN'), ('distribution', 'NN'), ('.', '.'), ('The', 'DT'), ('t', 'NN'), ('-', 'HYPH'), ('test', 'NN'), ('can', 'MD'), ('be', 'VB'), ('used', 'VBN'), (',', ','), ('for', 'IN'), ('example', 'NN'), (',', ','), ('to', 'TO'), ('determine', 'VB'), ('if', 'IN'), ('two', 'CD'), ('sets', 'NNS'), ('of', 'IN'), ('data', 'NNS'), ('are', 'VBP'), ('significantly', 'RB'), ('different', 'JJ'), ('from', 'IN'), ('each', 'DT'), ('other', 'JJ'), ('.', '.'), ('\\n', 'SP'), ('William', 'NNP'), ('Sealy', 'NNP'), ('Gosset', 'NNP'), (',', ','), ('who', 'WP'), ('developed', 'VBD'), ('the', 'DT'), ('\"', '``'), ('t', 'NN'), ('-', 'HYPH'), ('statistic', 'NN'), ('\"', \"''\"), ('and', 'CC'), ('published', 'VBD'), ('it', 'PRP'), ('under', 'IN'), ('the', 'DT'), ('pseudonym', 'NN'), ('of', 'IN'), ('\"', '``'), ('Student', 'NN'), ('\"', \"''\"), ('.', '.'), ('\\n', 'SP'), ('The', 'DT'), ('t', 'NN'), ('-', 'HYPH'), ('statistic', 'NN'), ('was', 'VBD'), ('introduced', 'VBN'), ('in', 'IN'), ('1908', 'CD'), ('by', 'IN'), ('William', 'NNP'), ('Sealy', 'NNP'), ('Gosset', 'NNP'), (',', ','), ('a', 'DT'), ('chemist', 'NN'), ('working', 'VBG'), ('for', 'IN'), ('the', 'DT'), ('Guinness', 'NNP'), ('brewery', 'NN'), ('in', 'IN'), ('Dublin', 'NNP'), (',', ','), ('Ireland', 'NNP'), ('.', '.'), ('\"', '``'), ('Student', 'NN'), ('\"', \"''\"), ('was', 'VBD'), ('his', 'PRP$'), ('pen', 'NN'), ('name.[1][2][3][4', 'NN'), (']', '-RRB-'), ('\\n', 'SP'), ('Gosset', 'NNP'), ('had', 'VBD'), ('been', 'VBN'), ('hired', 'VBN'), ('owing', 'VBG'), ('to', 'IN'), ('Claude', 'NNP'), ('Guinness', 'NNP'), (\"'s\", 'POS'), ('policy', 'NN'), ('of', 'IN'), ('recruiting', 'VBG'), ('the', 'DT'), ('best', 'JJS'), ('graduates', 'NNS'), ('from', 'IN'), ('Oxford', 'NNP'), ('and', 'CC'), ('Cambridge', 'NNP'), ('to', 'TO'), ('apply', 'VB'), ('biochemistry', 'NN'), ('and', 'CC'), ('statistics', 'NNS'), ('to', 'IN'), ('Guinness', 'NNP'), (\"'s\", 'POS'), ('industrial', 'JJ'), ('processes.[2', 'NN'), (']', '-RRB-'), ('Gosset', 'NNP'), ('devised', 'VBD'), ('the', 'DT'), ('t', 'NN'), ('-', 'HYPH'), ('test', 'NN'), ('as', 'IN'), ('an', 'DT'), ('economical', 'JJ'), ('way', 'NN'), ('to', 'TO'), ('monitor', 'VB'), ('the', 'DT'), ('quality', 'NN'), ('of', 'IN'), ('stout', 'NN'), ('.', '.'), ('The', 'DT'), ('Student', 'NN'), (\"'s\", 'POS'), ('t', 'NN'), ('-', 'HYPH'), ('test', 'NN'), ('work', 'NN'), ('was', 'VBD'), ('submitted', 'VBN'), ('to', 'IN'), ('and', 'CC'), ('accepted', 'VBN'), ('in', 'IN'), ('the', 'DT'), ('journal', 'NN'), ('Biometrika', 'NNP'), ('and', 'CC'), ('published', 'VBN'), ('in', 'IN'), ('1908.[5', 'CD'), (']', '-RRB-'), ('Company', 'NNP'), ('policy', 'NN'), ('at', 'IN'), ('Guinness', 'NNP'), ('forbade', 'VBD'), ('its', 'PRP$'), ('chemists', 'NNS'), ('from', 'IN'), ('publishing', 'VBG'), ('their', 'PRP$'), ('findings', 'NNS'), (',', ','), ('so', 'RB'), ('Gosset', 'NNP'), ('published', 'VBD'), ('his', 'PRP$'), ('statistical', 'JJ'), ('work', 'NN'), ('under', 'IN'), ('the', 'DT'), ('pseudonym', 'NN'), ('\"', '``'), ('Student', 'NN'), ('\"', \"''\"), ('(', '-LRB-'), ('see', 'VB'), ('Student', 'NN'), (\"'s\", 'POS'), ('t', 'NN'), ('-', 'HYPH'), ('distribution', 'NN'), ('for', 'IN'), ('a', 'DT'), ('detailed', 'JJ'), ('history', 'NN'), ('of', 'IN'), ('this', 'DT'), ('pseudonym', 'NN'), (',', ','), ('which', 'WDT'), ('is', 'VBZ'), ('not', 'RB'), ('to', 'TO'), ('be', 'VB'), ('confused', 'VBN'), ('with', 'IN'), ('the', 'DT'), ('literal', 'JJ'), ('term', 'NN'), ('student', 'NN'), (')', '-RRB-'), ('.', '.'), ('\\n', 'SP'), ('Guinness', 'NNP'), ('had', 'VBD'), ('a', 'DT'), ('policy', 'NN'), ('of', 'IN'), ('allowing', 'VBG'), ('technical', 'JJ'), ('staff', 'NN'), ('leave', 'NN'), ('for', 'IN'), ('study', 'NN'), ('(', '-LRB-'), ('so', 'RB'), ('-', 'HYPH'), ('called', 'VBN'), ('\"', '``'), ('study', 'NN'), ('leave', 'NN'), ('\"', \"''\"), (')', '-RRB-'), (',', ','), ('which', 'WDT'), ('Gosset', 'NNP'), ('used', 'VBD'), ('during', 'IN'), ('the', 'DT'), ('first', 'JJ'), ('two', 'CD'), ('terms', 'NNS'), ('of', 'IN'), ('the', 'DT'), ('1906–1907', 'CD'), ('academic', 'JJ'), ('year', 'NN'), ('in', 'IN'), ('Professor', 'NNP'), ('Karl', 'NNP'), ('Pearson', 'NNP'), (\"'s\", 'POS'), ('Biometric', 'NNP'), ('Laboratory', 'NNP'), ('at', 'IN'), ('University', 'NNP'), ('College', 'NNP'), ('London.[6', 'NNP'), (']', '-RRB-'), ('Gosset', 'NNP'), (\"'s\", 'POS'), ('identity', 'NN'), ('was', 'VBD'), ('then', 'RB'), ('known', 'VBN'), ('to', 'IN'), ('fellow', 'JJ'), ('statisticians', 'NNS'), ('and', 'CC'), ('to', 'IN'), ('editor', 'NN'), ('-', 'HYPH'), ('in', 'IN'), ('-', 'HYPH'), ('chief', 'NN'), ('Karl', 'NNP'), ('Pearson.[7', 'NNP'), (']', '-RRB-')] \n",
      "\n",
      " [('The', 'DT'), ('t-test', 'NN'), ('is', 'VBZ'), ('any', 'DT'), ('statistical', 'JJ'), ('hypothesis', 'NN'), ('test', 'NN'), ('in', 'IN'), ('which', 'WDT'), ('the', 'DT'), ('test', 'NN'), ('statistic', 'NN'), ('follows', 'VBZ'), ('a', 'DT'), ('Student', 'NN'), (\"'s\", 'POS'), ('t-distribution', 'NN'), ('under', 'IN'), ('the', 'DT'), ('null', 'JJ'), ('hypothesis', 'NN'), ('.', '.'), ('A', 'DT'), ('t-test', 'JJ'), ('is', 'VBZ'), ('most', 'JJS'), ('commonly', 'RB'), ('applied', 'VBN'), ('when', 'WRB'), ('the', 'DT'), ('test', 'NN'), ('statistic', 'NN'), ('would', 'MD'), ('follow', 'VB'), ('a', 'DT'), ('normal', 'JJ'), ('distribution', 'NN'), ('if', 'IN'), ('the', 'DT'), ('value', 'NN'), ('of', 'IN'), ('a', 'DT'), ('scaling', 'JJ'), ('term', 'NN'), ('in', 'IN'), ('the', 'DT'), ('test', 'NN'), ('statistic', 'NN'), ('were', 'VBD'), ('known', 'VBN'), ('.', '.'), ('When', 'WRB'), ('the', 'DT'), ('scaling', 'JJ'), ('term', 'NN'), ('is', 'VBZ'), ('unknown', 'JJ'), ('and', 'CC'), ('is', 'VBZ'), ('replaced', 'VBN'), ('by', 'IN'), ('an', 'DT'), ('estimate', 'NN'), ('based', 'VBN'), ('on', 'IN'), ('the', 'DT'), ('data', 'NN'), (',', ','), ('the', 'DT'), ('test', 'NN'), ('statistics', 'NNS'), ('(', '('), ('under', 'IN'), ('certain', 'JJ'), ('conditions', 'NNS'), (')', ')'), ('follow', 'VBP'), ('a', 'DT'), ('Student', 'NN'), (\"'s\", 'POS'), ('t', 'JJ'), ('distribution', 'NN'), ('.', '.'), ('The', 'DT'), ('t-test', 'JJ'), ('can', 'MD'), ('be', 'VB'), ('used', 'VBN'), (',', ','), ('for', 'IN'), ('example', 'NN'), (',', ','), ('to', 'TO'), ('determine', 'VB'), ('if', 'IN'), ('two', 'CD'), ('sets', 'NNS'), ('of', 'IN'), ('data', 'NNS'), ('are', 'VBP'), ('significantly', 'RB'), ('different', 'JJ'), ('from', 'IN'), ('each', 'DT'), ('other', 'JJ'), ('.', '.'), ('William', 'NNP'), ('Sealy', 'NNP'), ('Gosset', 'NNP'), (',', ','), ('who', 'WP'), ('developed', 'VBD'), ('the', 'DT'), ('``', '``'), ('t-statistic', 'JJ'), (\"''\", \"''\"), ('and', 'CC'), ('published', 'VBD'), ('it', 'PRP'), ('under', 'IN'), ('the', 'DT'), ('pseudonym', 'NN'), ('of', 'IN'), ('``', '``'), ('Student', 'NN'), (\"''\", \"''\"), ('.', '.'), ('The', 'DT'), ('t-statistic', 'JJ'), ('was', 'VBD'), ('introduced', 'VBN'), ('in', 'IN'), ('1908', 'CD'), ('by', 'IN'), ('William', 'NNP'), ('Sealy', 'NNP'), ('Gosset', 'NNP'), (',', ','), ('a', 'DT'), ('chemist', 'NN'), ('working', 'VBG'), ('for', 'IN'), ('the', 'DT'), ('Guinness', 'NNP'), ('brewery', 'NN'), ('in', 'IN'), ('Dublin', 'NNP'), (',', ','), ('Ireland', 'NNP'), ('.', '.'), ('``', '``'), ('Student', 'NN'), (\"''\", \"''\"), ('was', 'VBD'), ('his', 'PRP$'), ('pen', 'JJ'), ('name', 'NN'), ('.', '.'), ('[', 'CC'), ('1', 'CD'), (']', 'JJ'), ('[', '$'), ('2', 'CD'), (']', 'NNP'), ('[', 'VBD'), ('3', 'CD'), (']', 'NNP'), ('[', 'VBD'), ('4', 'CD'), (']', 'JJ'), ('Gosset', 'NNP'), ('had', 'VBD'), ('been', 'VBN'), ('hired', 'VBN'), ('owing', 'VBG'), ('to', 'TO'), ('Claude', 'NNP'), ('Guinness', 'NNP'), (\"'s\", 'POS'), ('policy', 'NN'), ('of', 'IN'), ('recruiting', 'VBG'), ('the', 'DT'), ('best', 'JJS'), ('graduates', 'NNS'), ('from', 'IN'), ('Oxford', 'NNP'), ('and', 'CC'), ('Cambridge', 'NNP'), ('to', 'TO'), ('apply', 'VB'), ('biochemistry', 'NN'), ('and', 'CC'), ('statistics', 'NNS'), ('to', 'TO'), ('Guinness', 'NNP'), (\"'s\", 'POS'), ('industrial', 'JJ'), ('processes', 'NNS'), ('.', '.'), ('[', '$'), ('2', 'CD'), (']', 'NNP'), ('Gosset', 'NNP'), ('devised', 'VBD'), ('the', 'DT'), ('t-test', 'NN'), ('as', 'IN'), ('an', 'DT'), ('economical', 'JJ'), ('way', 'NN'), ('to', 'TO'), ('monitor', 'VB'), ('the', 'DT'), ('quality', 'NN'), ('of', 'IN'), ('stout', 'NN'), ('.', '.'), ('The', 'DT'), ('Student', 'NN'), (\"'s\", 'POS'), ('t-test', 'JJ'), ('work', 'NN'), ('was', 'VBD'), ('submitted', 'VBN'), ('to', 'TO'), ('and', 'CC'), ('accepted', 'VBN'), ('in', 'IN'), ('the', 'DT'), ('journal', 'NN'), ('Biometrika', 'NNP'), ('and', 'CC'), ('published', 'VBN'), ('in', 'IN'), ('1908', 'CD'), ('.', '.'), ('[', 'VB'), ('5', 'CD'), (']', 'JJ'), ('Company', 'NN'), ('policy', 'NN'), ('at', 'IN'), ('Guinness', 'NNP'), ('forbade', 'VBD'), ('its', 'PRP$'), ('chemists', 'NNS'), ('from', 'IN'), ('publishing', 'VBG'), ('their', 'PRP$'), ('findings', 'NNS'), (',', ','), ('so', 'RB'), ('Gosset', 'NNP'), ('published', 'VBD'), ('his', 'PRP$'), ('statistical', 'JJ'), ('work', 'NN'), ('under', 'IN'), ('the', 'DT'), ('pseudonym', 'NN'), ('``', '``'), ('Student', 'NN'), (\"''\", \"''\"), ('(', '('), ('see', 'VB'), ('Student', 'NNP'), (\"'s\", 'POS'), ('t-distribution', 'NN'), ('for', 'IN'), ('a', 'DT'), ('detailed', 'JJ'), ('history', 'NN'), ('of', 'IN'), ('this', 'DT'), ('pseudonym', 'NN'), (',', ','), ('which', 'WDT'), ('is', 'VBZ'), ('not', 'RB'), ('to', 'TO'), ('be', 'VB'), ('confused', 'VBN'), ('with', 'IN'), ('the', 'DT'), ('literal', 'JJ'), ('term', 'NN'), ('student', 'NN'), (')', ')'), ('.', '.'), ('Guinness', 'NNP'), ('had', 'VBD'), ('a', 'DT'), ('policy', 'NN'), ('of', 'IN'), ('allowing', 'VBG'), ('technical', 'JJ'), ('staff', 'NN'), ('leave', 'VBP'), ('for', 'IN'), ('study', 'NN'), ('(', '('), ('so-called', 'JJ'), ('``', '``'), ('study', 'NN'), ('leave', 'VBP'), (\"''\", \"''\"), (')', ')'), (',', ','), ('which', 'WDT'), ('Gosset', 'NNP'), ('used', 'VBD'), ('during', 'IN'), ('the', 'DT'), ('first', 'JJ'), ('two', 'CD'), ('terms', 'NNS'), ('of', 'IN'), ('the', 'DT'), ('1906–1907', 'CD'), ('academic', 'JJ'), ('year', 'NN'), ('in', 'IN'), ('Professor', 'NNP'), ('Karl', 'NNP'), ('Pearson', 'NNP'), (\"'s\", 'POS'), ('Biometric', 'NNP'), ('Laboratory', 'NNP'), ('at', 'IN'), ('University', 'NNP'), ('College', 'NNP'), ('London', 'NNP'), ('.', '.'), ('[', 'CC'), ('6', 'CD'), (']', 'JJ'), ('Gosset', 'NNP'), (\"'s\", 'POS'), ('identity', 'NN'), ('was', 'VBD'), ('then', 'RB'), ('known', 'VBN'), ('to', 'TO'), ('fellow', 'VB'), ('statisticians', 'NNS'), ('and', 'CC'), ('to', 'TO'), ('editor-in-chief', 'JJ'), ('Karl', 'NNP'), ('Pearson', 'NNP'), ('.', '.'), ('[', 'CC'), ('7', 'CD'), (']', 'NN')]\n"
     ]
    }
   ],
   "source": [
    "print(tag_spacy, '\\n\\n', tag_nltk)"
   ]
  },
  {
   "cell_type": "markdown",
   "metadata": {},
   "source": [
    "In general, the tagging results of SpaCy and NLTK are similar. \n",
    "\n",
    "Differences:\n",
    "* SpaCy: ('t', 'NN'), ('-', 'HYPH'), ('test', 'NN'); \n",
    "* NLTK: ('t-test', 'NN')\n",
    "\n",
    "&nbsp;&nbsp;&nbsp;&nbsp; For SpaCy, it tokenizes the word \"t-test\" into three parts \"t\", \"-\", and \"test\", while NLTK tokenizes it as one word \"t-test\". However, both of them give the word \"t-test\" the correct tag as a noun. Same cases for other words like \"t-statistic\", \"t-distribution\", \"editor-in-chief\", etc. \n",
    "\n",
    "* SpaCy: ('A', 'DT'), ('t', 'NN'), ('-', 'HYPH'), ('test', 'NN'), ('is', 'VBZ'), ('most', 'RBS'), ('commonly', 'RB'), ...\n",
    "* NLTK: ('A', 'DT'), ('t-test', 'JJ'), ('is', 'VBZ'), ('most', 'JJS'), ('commonly', 'RB'), ...\n",
    "\n",
    "&nbsp;&nbsp;&nbsp;&nbsp; For the sentence \"A t-test is most commonly applied when ...\", SpaCy still tags \"t-test\" as a noun, but NLTK tags it as a adjective. SpaCy tags the word \"most\" as a superlative adverb (RBS), while NLTK tags it as a superlative adjective (JJS). \n",
    "\n",
    "* SpaCy: ('\\n', 'SP')\n",
    "&nbsp;&nbsp;&nbsp;&nbsp; SpaCy tags newline \"\\n\", while NLTK ignores that.\n",
    "\n",
    "\n",
    "* SpaCy: ('Pearson.[7', 'NNP'), (']', '-RRB-')] \n",
    "* NLTK: ('Pearson', 'NNP'), ('.', '.'), ('[', 'CC'), ('7', 'CD'), (']', 'NN')]\n",
    "* NLTK: ('[', 'CC'), ('1', 'CD'), (']', 'JJ') ; ('[', '$'), ('2', 'CD'), (']', 'NNP')\n",
    "\n",
    "&nbsp;&nbsp;&nbsp;&nbsp;  For the sentence \"... Karl Pearson.[7]\", as there is no space between the period and the reference, SpaCy takes \"Pearson.[7\" as one noun, while NLTK seperates it into several parts. SpaCy always tags \"[\" or \"]\" as \"-RRB-\", while NLTK could give them different tags such as \"CC\", \"NN\", \"JJ\", \"$\", \"NNP\", etc."
   ]
  }
 ],
 "metadata": {
  "kernelspec": {
   "display_name": "Python 3",
   "language": "python",
   "name": "python3"
  },
  "language_info": {
   "codemirror_mode": {
    "name": "ipython",
    "version": 3
   },
   "file_extension": ".py",
   "mimetype": "text/x-python",
   "name": "python",
   "nbconvert_exporter": "python",
   "pygments_lexer": "ipython3",
   "version": "3.6.1"
  }
 },
 "nbformat": 4,
 "nbformat_minor": 2
}
